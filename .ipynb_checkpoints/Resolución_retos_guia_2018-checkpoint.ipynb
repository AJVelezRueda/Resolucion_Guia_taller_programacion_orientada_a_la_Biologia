{
 "cells": [
  {
   "cell_type": "code",
   "execution_count": null,
   "metadata": {
    "collapsed": true
   },
   "outputs": [],
   "source": []
  },
  {
   "cell_type": "code",
   "execution_count": null,
   "metadata": {
    "collapsed": true
   },
   "outputs": [],
   "source": []
  },
  {
   "cell_type": "code",
   "execution_count": null,
   "metadata": {
    "collapsed": true
   },
   "outputs": [],
   "source": []
  },
  {
   "cell_type": "code",
   "execution_count": 9,
   "metadata": {
    "collapsed": true
   },
   "outputs": [
    {
     "name": "stdout",
     "output_type": "stream",
     "text": [
      "Somos 2 clones!\n",
      "Somos 2 clones!\n",
      "Somos 2 clones!\n",
      "Somos 2 clones!\n",
      "Somos 2 clones!\n",
      "Somos 2 clones!\n",
      "Somos 2 clones!\n",
      "Somos 2 clones!\n",
      "Somos 2 clones!\n",
      "Somos 2 clones!\n",
      "Somos 2 clones!\n",
      "Somos 2 clones!\n",
      "Somos 2 clones!\n",
      "Somos 2 clones!\n",
      "Somos 2 clones!\n",
      "Somos 2 clones!\n",
      "Somos 2 clones!\n",
      "Somos 2 clones!\n",
      "Somos 2 clones!\n",
      "Somos 2 clones!\n",
      "Somos 2 clones!\n",
      "Somos 2 clones!\n",
      "Somos 2 clones!\n",
      "Somos 2 clones!\n",
      "Somos 2 clones!\n",
      "Somos 2 clones!\n",
      "Somos 2 clones!\n",
      "Somos 2 clones!\n",
      "Somos 2 clones!\n",
      "Somos 2 clones!\n",
      "Somos 2 clones!\n",
      "Somos 2 clones!\n",
      "Somos 2 clones!\n",
      "Somos 2 clones!\n",
      "Somos 2 clones!\n",
      "Somos 2 clones!\n",
      "Somos 2 clones!\n",
      "Somos 2 clones!\n",
      "Somos 2 clones!\n",
      "Somos 2 clones!\n",
      "Somos 2 clones!\n",
      "Somos 2 clones!\n",
      "Somos 2 clones!\n",
      "Somos 2 clones!\n",
      "Somos 2 clones!\n",
      "Somos 2 clones!\n",
      "Somos 2 clones!\n",
      "Somos 2 clones!\n",
      "Somos 2 clones!\n",
      "Somos 2 clones!\n"
     ]
    }
   ],
   "source": [
    "##Reto VIII: Guia de talleres de programación orientada a la Biología \n",
    "\n",
    "for i in range(0,50):\n",
    "    print(\"Somos 2 clones!\")"
   ]
  },
  {
   "cell_type": "code",
   "execution_count": 6,
   "metadata": {
    "collapsed": false
   },
   "outputs": [
    {
     "name": "stdout",
     "output_type": "stream",
     "text": [
      "Somos 2 clones! \n",
      "Somos 4 clones! \n",
      "Somos 8 clones! \n",
      "Somos 16 clones! \n",
      "Somos 32 clones! \n",
      "Somos 64 clones! \n",
      "Somos 128 clones! \n",
      "Somos 256 clones! \n",
      "Somos 512 clones! \n",
      "Somos 1024 clones! \n"
     ]
    }
   ],
   "source": [
    "##Reto IX: Guia de talleres de programación orientada a la Biología \n",
    "\n",
    "k = 2\n",
    "for i in range(0,10):\n",
    "    mensaje = \"Somos %s clones! \"\n",
    "    k = 2*2**i\n",
    "    print(mensaje%k)"
   ]
  },
  {
   "cell_type": "code",
   "execution_count": null,
   "metadata": {
    "collapsed": true
   },
   "outputs": [],
   "source": []
  },
  {
   "cell_type": "code",
   "execution_count": null,
   "metadata": {
    "collapsed": true
   },
   "outputs": [],
   "source": []
  }
 ],
 "metadata": {
  "kernelspec": {
   "display_name": "Python 2",
   "language": "python",
   "name": "python2"
  },
  "language_info": {
   "codemirror_mode": {
    "name": "ipython",
    "version": 2
   },
   "file_extension": ".py",
   "mimetype": "text/x-python",
   "name": "python",
   "nbconvert_exporter": "python",
   "pygments_lexer": "ipython2",
   "version": "2.7.13"
  }
 },
 "nbformat": 4,
 "nbformat_minor": 0
}
