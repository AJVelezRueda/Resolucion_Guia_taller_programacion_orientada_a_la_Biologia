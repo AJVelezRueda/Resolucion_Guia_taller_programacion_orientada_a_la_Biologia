{
 "cells": [
  {
   "cell_type": "markdown",
   "metadata": {
    "collapsed": true
   },
   "source": [
    "#Resolucion de la guía 2018"
   ]
  },
  {
   "cell_type": "markdown",
   "metadata": {
    "collapsed": true
   },
   "source": [
    "###El siguiente notebook contiene las posibles resoluciones a los retos planteados en la Guía 2018 de programación Orientada a la Biología. Las soluciones propuestas no son las únicas posibles. Si tu programa difiere del nuestro, pero hace lo que querés, bienvenido sea! Gracias por ser parte de nuestro proyecto! Hasta la próxima! Los del SBG!\n",
    "\n",
    "**Atención!** Todo lo que se escribe luego de un **#** en Python son comentarios, no código!\n",
    "\n",
    "**¡Compartinos tu código en nuestro grupo de Facebook** ‘Talleres de programación Orientada a la Biologia - SBG_UNQ’!"
   ]
  },
  {
   "cell_type": "code",
   "execution_count": 1,
   "metadata": {
    "collapsed": false
   },
   "outputs": [
    {
     "data": {
      "text/plain": [
       "3"
      ]
     },
     "execution_count": 1,
     "metadata": {},
     "output_type": "execute_result"
    }
   ],
   "source": [
    "##RETO I  Guia de talleres de programación orientada a la Biología\n",
    "##¿Podés descubrir y anotar el orden en que se ha ejecutado cada operación?\n",
    "((4+5)*2)/5\n",
    "\n",
    "##Primero se ejecuta la suma de 4+5\n",
    "##Se multiplica por 2 el resultado de 4+5\n",
    "##Se divide por 5 el resultado de las operación anterior"
   ]
  },
  {
   "cell_type": "code",
   "execution_count": 3,
   "metadata": {
    "collapsed": false
   },
   "outputs": [
    {
     "name": "stdout",
     "output_type": "stream",
     "text": [
      "16\n"
     ]
    }
   ],
   "source": [
    "##RETO II Guia de talleres de programación orientada a la Biología\n",
    "##Creá una variable llamada doble, que sea el doble de la suma entre a y b.\n",
    "a = 3\n",
    "b = 5\n",
    "doble = (a+b)*2\n",
    "print(doble)"
   ]
  },
  {
   "cell_type": "code",
   "execution_count": 5,
   "metadata": {
    "collapsed": false
   },
   "outputs": [
    {
     "name": "stdout",
     "output_type": "stream",
     "text": [
      "AUGAAAAAAAAACUAAUG\n"
     ]
    }
   ],
   "source": [
    "##RETO III Guia de talleres de programación orientada a la Biología\n",
    "##Digamos que el ADN no es más que un mensaje en clave, que debe ser descifrado o interpretado para la síntesis de proteínas. El mensaje está escrito por una secuencia determinada de 4 nucleótidos distintos representados por las letras A, T, G y C. Dentro de la célula, el mensaje es transportado por otra molécula, el ARN, muy similar al ADN pero con U en vez de T. En este mensaje, cada triplete o grupo de tres letras del ARN se denomina codón, y cada aminoácido de las proteínas está codificado por uno o varios codones. Así por ejemplo el codón ‘AUG’ codifica para el aminoácido Metionina , el codón ‘AAA’ para Lisina, el codón ‘CUA’ para Leucina, etc.\n",
    "##¿Podrías escribir una cadena de ARN que codifique para el péptido (es decir, la cadena corta de aminoácidos) ‘Met-Lis-Lis-Lis-Leu-Leu-Met’ combinando las variables  met = ‘AUG’ , lis = ‘AAA’ y leu = ‘CUA’  utilizando operadores matemáticos? \n",
    "met = \"AUG\" \n",
    "lis = \"AAA\" \n",
    "leu = \"CUA\"\n",
    "\n",
    "#péptido = ‘Met-Lis-Lis-Lis-Leu-Leu-Met’\n",
    "ARN = met+lis*3+leu+met\n",
    "\n",
    "print(ARN)"
   ]
  },
  {
   "cell_type": "code",
   "execution_count": 9,
   "metadata": {
    "collapsed": false
   },
   "outputs": [
    {
     "name": "stdout",
     "output_type": "stream",
     "text": [
      "31.8141980719\n"
     ]
    }
   ],
   "source": [
    "##RETO IV Guia de talleres de programación orientada a la Biología\n",
    "##¿Cadenas?¿letras? Si hablamos de cadenas y letras en Biología, lo primero que se nos viene a la cabeza son las macromoléculas. Como bien sabemos, el ADN es un mensaje en clave que guía la síntesis de proteínas. Este mensaje está escrito por una secuencia determinada de 4 nucleótidos distintos representados por las letras A, T, G y C. El contenido de C y G (es decir el porcentaje de CG) presente en el ADN de un organismo es una característica distintiva: por ejemplo las Actinobacterias tienen un contenido característicamente más alto de CG que otros organismos. Ahora, contar la cantidad de C y G en una cadena de ADN larguísima a mano puede ser un verdadero tedio ¿Podrías crear un programa que calcule el porcentaje de C y G de una cadena dada de ADN?\n",
    "\n",
    "secuencia = 'TGATAAGAGTACCCAGAATAAAATGAATAACTTTTTAAAGACAAAATCCTCTGTTATAATATTGCTAAAATTATTCAGAGTAATATTGTGGATTAAAGCCACAATAAGATTTATAATCTTAAATGATGGGACTACCATCCTTACTCTCTCCATTTCAAGGCTGACGATAAGGAGACCTGCTTTGCCGAGGAGGTACTACAGTTCTCTTCACAAACAATTGTCTTACAAAATGAATAAAACAGCACTTTGTTTTTATCTCCTGCTTTTAATATGTCCAGTATTCATTTTTGCATGTTTGGTTAGGCTAGGGCTTAGGGATTTATATATCAAAGGAGGCTTTGTACATGTGGGACAGGGATCTTATTTTAGATTTATATATCAAAGGAGGCTTTGTACATGTGGGACAGGGATCTTATTTTACAAACAATTGTCTTACAAAATGAATAAAACAGCACTTTGTTTTTATCTCCTGCTCTATTGTGCCATACTGTTGAATGTTTATAATGCATGTTCTGTTTCCAAATTTCATGAAATCAAAACATTAATTTATTTAAACATTTACTTGAAATGTTCACAAACAATTGTCTTACAAAATGAATAAAACAGCACTTTGTTTTTATCTCCTGCTTTTAATATGTCCAGTATTCATTTTTGCATGTTTGGTTAGGCTAGGGCTTAGGGATTTATATATCAAAGGAGGCTTTGTACATGTGGGACAGGGATCTTATTTTAGATTTATATATCAAAGGAGGCTTTGTACATGTGGGACAGGGATCTTATTTTACAAACAATTGTCTTACAAAATGAATAAAACAGCACTTTGTTTTTATCTCCTGCTCTATTGTGCCATACTGTTGAATGTTTATAATGCATGTTCTGTTTCCAAATTTCATGAAATCAAAACATTAATTTATTTAAACATTTACTTGAAATGTGGTGGTTTGTGATTTAGTTGATTTTATAGGCTAGTGGGAGAATTTACATTCAAATGTCTAAATCACTTAAAATTTCCCTTTATGGCCTGACAGTAACTTTTTTTTATTCATTTGGGGACAACTATGTCCGTGAGCTTCCATCCAGAGATTATAGTAGTAAATTGTAATTAAAGGATATGATGCACGTGAAATCACTTTGCAATCAT'\n",
    "\n",
    "cantidad_c = secuencia.count('C')\n",
    "cantidad_g = secuencia.count('G')\n",
    "xcientoCG = (float(cantidad_c + cantidad_g)/len(secuencia))*100\n",
    "\n",
    "print(xcientoCG)"
   ]
  },
  {
   "cell_type": "code",
   "execution_count": 11,
   "metadata": {
    "collapsed": false
   },
   "outputs": [
    {
     "name": "stdout",
     "output_type": "stream",
     "text": [
      "AAGGAAGAAGGAATGGAAGTTGGA\n"
     ]
    }
   ],
   "source": [
    "##RETO V Guia de talleres de programación orientada a la Biología \n",
    "#Supongamos que tenemos la secuencia del gen de una mini proteína de la rana con pelo traída de Marte (este gen no es más que una secuencia de caracteres, que en el caso de las moléculas de ADN se llaman nucleótidos). Sabemos que la música de Arjona le produce mutaciones. Cada vez que suena ‘Pingüinos en la cama’ una timina (T) cambia por una adenina (A). Sabiendo que el gen era ‘ATGGAAGTTGGAATGGAAGTTGGA’ ¿podés escribir un programa que nos diga cómo quedará el gen luego de tres veces de reproducir la canción?\n",
    "\n",
    "gen = \"ATGGAAGTTGGAATGGAAGTTGGA\"\n",
    "\n",
    "##Una opción utilizando lo aprendido hasta ahora es:\n",
    "\n",
    "print(gen[0] + gen[1].replace('T','A') + gen[2:7] + gen[7].replace('T','A')+ gen[8].replace('T','A') + gen[9:])\n",
    "\n",
    "##Seguro con lo que aprenderemos más adelante sobre bucles podremos mejorar nuestro programa!"
   ]
  },
  {
   "cell_type": "code",
   "execution_count": 24,
   "metadata": {
    "collapsed": false
   },
   "outputs": [
    {
     "name": "stdout",
     "output_type": "stream",
     "text": [
      "podemos sumar listas!\n",
      "['Argentina', 'Uruguay', 'La Platalandia', 'Belgica', 'Paraguay', 'Colombia']\n",
      "\n",
      "O multiplicarlas!\n",
      "['Argentina', 'Uruguay', 'La Platalandia', 'Argentina', 'Uruguay', 'La Platalandia']\n",
      "\n",
      "Y compararlas!\n",
      "False\n",
      "True\n",
      "False\n"
     ]
    }
   ],
   "source": [
    "##RETO VI Guia de talleres de programación orientada a la Biología \n",
    "##¿Se te ocurre qué operadores podrías usar para las listas?\n",
    "\n",
    "conquistados = [\"Argentina\", \"Uruguay\", \"La Platalandia\"]\n",
    "loquefalta = ['Belgica',  'Paraguay', 'Colombia']\n",
    "\n",
    "#Operador suma!\n",
    "print(\"podemos sumar listas!\")\n",
    "print(conquistados + loquefalta)\n",
    "\n",
    "#Multiplicación!\n",
    "print(\"\\nO multiplicarlas!\")\n",
    "#El caracter especial '\\n' es como agregar un salto de linea en lo que se imprime\n",
    "print(conquistados *2)\n",
    "\n",
    "#Compararlas!\n",
    "print(\"\\nY compararlas!\")\n",
    "print(conquistados == loquefalta)\n",
    "print(conquistados != loquefalta)\n",
    "print(conquistados > loquefalta)"
   ]
  },
  {
   "cell_type": "code",
   "execution_count": 25,
   "metadata": {
    "collapsed": false
   },
   "outputs": [
    {
     "name": "stdout",
     "output_type": "stream",
     "text": [
      "El gen de \"La diminuta\" tiene menor longitud que el de la terrestre!\n"
     ]
    }
   ],
   "source": [
    "##RETO VII Guia de talleres de programación orientada a la Biología \n",
    "##Ya que encontramos el espécimen de rana con pelo en marte, nos gustaría contrastar sus características con las ranas terrestres. Sabiendo que el gen de la proteína diminuta es  ‘ATGGAAGTTGGAATCCAAGTTGGA’ y el gen de una proteína similar de rana terrestre es ‘ATGGAAGTTAATGGAAGTTGGAGGAGA’ ¿podés crear un programa que compare la longitud de ambos genes y según cuál sea más grande nos imprima un mensaje informándonos el resultado?\n",
    "\n",
    "diminuta = \"ATGGAAGTTGGAATCCAAGTTGGA\"\n",
    "terrestre = \"ATGGAAGTTAATGGAAGTTGGAGGAGA\"\n",
    "\n",
    "if len(diminuta) > len(terrestre):\n",
    "    print('El gen de \"La diminuta\" tiene mayor longitud que el de la terrestre!')\n",
    "if len(diminuta) == len(terrestre):\n",
    "    print('La longitud de ambos genes es igual!')\n",
    "else:\n",
    "    print('El gen de \"La diminuta\" tiene menor longitud que el de la terrestre!')"
   ]
  },
  {
   "cell_type": "code",
   "execution_count": 9,
   "metadata": {
    "collapsed": true
   },
   "outputs": [
    {
     "name": "stdout",
     "output_type": "stream",
     "text": [
      "Somos 2 clones!\n",
      "Somos 2 clones!\n",
      "Somos 2 clones!\n",
      "Somos 2 clones!\n",
      "Somos 2 clones!\n",
      "Somos 2 clones!\n",
      "Somos 2 clones!\n",
      "Somos 2 clones!\n",
      "Somos 2 clones!\n",
      "Somos 2 clones!\n",
      "Somos 2 clones!\n",
      "Somos 2 clones!\n",
      "Somos 2 clones!\n",
      "Somos 2 clones!\n",
      "Somos 2 clones!\n",
      "Somos 2 clones!\n",
      "Somos 2 clones!\n",
      "Somos 2 clones!\n",
      "Somos 2 clones!\n",
      "Somos 2 clones!\n",
      "Somos 2 clones!\n",
      "Somos 2 clones!\n",
      "Somos 2 clones!\n",
      "Somos 2 clones!\n",
      "Somos 2 clones!\n",
      "Somos 2 clones!\n",
      "Somos 2 clones!\n",
      "Somos 2 clones!\n",
      "Somos 2 clones!\n",
      "Somos 2 clones!\n",
      "Somos 2 clones!\n",
      "Somos 2 clones!\n",
      "Somos 2 clones!\n",
      "Somos 2 clones!\n",
      "Somos 2 clones!\n",
      "Somos 2 clones!\n",
      "Somos 2 clones!\n",
      "Somos 2 clones!\n",
      "Somos 2 clones!\n",
      "Somos 2 clones!\n",
      "Somos 2 clones!\n",
      "Somos 2 clones!\n",
      "Somos 2 clones!\n",
      "Somos 2 clones!\n",
      "Somos 2 clones!\n",
      "Somos 2 clones!\n",
      "Somos 2 clones!\n",
      "Somos 2 clones!\n",
      "Somos 2 clones!\n",
      "Somos 2 clones!\n"
     ]
    }
   ],
   "source": [
    "##Reto VIII Guia de talleres de programación orientada a la Biología \n",
    "##Si nos ponemos un poco más estrictos, y siguiendo con el tema de los clones de bacterias, el programa que creamos antes tiene algunas fallas ‘numéricas’: en cada vuelta de división celular binaria se generarán dos clones, no uno. ¿Podrías escribir un programa que imprima ‘¡Somos 2 clones nuevos!’ en cada una de 50 vueltas?\n",
    "\n",
    "for i in range(0,50):\n",
    "    print(\"Somos 2 clones!\")"
   ]
  },
  {
   "cell_type": "code",
   "execution_count": 6,
   "metadata": {
    "collapsed": false
   },
   "outputs": [
    {
     "name": "stdout",
     "output_type": "stream",
     "text": [
      "Somos 2 clones! \n",
      "Somos 4 clones! \n",
      "Somos 8 clones! \n",
      "Somos 16 clones! \n",
      "Somos 32 clones! \n",
      "Somos 64 clones! \n",
      "Somos 128 clones! \n",
      "Somos 256 clones! \n",
      "Somos 512 clones! \n",
      "Somos 1024 clones! \n"
     ]
    }
   ],
   "source": [
    "##Reto IX Guia de talleres de programación orientada a la Biología \n",
    "##Si ahora queremos hacer nuestro programa un poco más estricto, por cada vuelta deberíamos sumar el total de células que tenemos e imprimir ese número en el mensaje. Entonces, por ejemplo, como en la primer vuelta tenemos dos células, imprimiríamos como mensaje ‘¡Somos 2 clones!’ , pero en la segunda vuelta serán en total 4 células y el mensaje a imprimir debería ser ‘¡Somos 4 clones!’. ¿Podrías escribir esta modificación del programa? \n",
    "\n",
    "k = 2\n",
    "for i in range(0,10):\n",
    "    mensaje = \"Somos %s clones! \"\n",
    "    k = 2*2**i\n",
    "    print(mensaje%k)"
   ]
  }
 ],
 "metadata": {
  "kernelspec": {
   "display_name": "Python 2",
   "language": "python",
   "name": "python2"
  },
  "language_info": {
   "codemirror_mode": {
    "name": "ipython",
    "version": 2
   },
   "file_extension": ".py",
   "mimetype": "text/x-python",
   "name": "python",
   "nbconvert_exporter": "python",
   "pygments_lexer": "ipython2",
   "version": "2.7.13"
  }
 },
 "nbformat": 4,
 "nbformat_minor": 0
}
